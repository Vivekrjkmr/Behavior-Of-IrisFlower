{
 "cells": [
  {
   "cell_type": "markdown",
   "metadata": {},
   "source": [
    "In this project my goal is to do some statistical and analytical observation on the IRIS classification dataset and finally do some supervised and unsupervised learning on the data. The Iris flower data set or Fisher's Iris data set is a multivariate data set introduced by the British statistician and biologist Ronald Fisher in his 1936 paper \"The use of multiple measurements in taxonomic problems\" as an example of linear discriminant analysis   "
   ]
  },
  {
   "cell_type": "code",
   "execution_count": 2,
   "metadata": {},
   "outputs": [],
   "source": [
    "#to print more than one outputs at a time\n",
    "from IPython.core.interactiveshell import InteractiveShell\n",
    "InteractiveShell.ast_node_interactivity = \"all\""
   ]
  },
  {
   "cell_type": "markdown",
   "metadata": {},
   "source": [
    "The iris flower dataset consists of 150 collected observations for different flower's charachteristics. The dataset contains four attributes. These four attributes help decide which Iris class does the flower belong to. The four attributes are sepal length, sepal width, petal length, and petal width; all in cm. The data set contains 3 classes Iris Setosa, Iris Versicolour, and Iris Virginica. For more info about the dataset, you can chek [this link](https://en.wikipedia.org/wiki/Iris_flower_data_set). The end target of the project will be to build a model that can predict, based on the four attributes, which class does the flower belong to.\n",
    "\n",
    "In the first part of the project we will start by loading the data and cleaning up any problems within the data. "
   ]
  },
  {
   "cell_type": "markdown",
   "metadata": {},
   "source": [
    "# Step 1: Let's clean and load the data"
   ]
  },
  {
   "cell_type": "code",
   "execution_count": 3,
   "metadata": {},
   "outputs": [
    {
     "data": {
      "text/plain": [
       "(155, 5)"
      ]
     },
     "execution_count": 3,
     "metadata": {},
     "output_type": "execute_result"
    },
    {
     "data": {
      "text/plain": [
       "17"
      ]
     },
     "execution_count": 3,
     "metadata": {},
     "output_type": "execute_result"
    },
    {
     "data": {
      "text/html": [
       "<div>\n",
       "<style scoped>\n",
       "    .dataframe tbody tr th:only-of-type {\n",
       "        vertical-align: middle;\n",
       "    }\n",
       "\n",
       "    .dataframe tbody tr th {\n",
       "        vertical-align: top;\n",
       "    }\n",
       "\n",
       "    .dataframe thead th {\n",
       "        text-align: right;\n",
       "    }\n",
       "</style>\n",
       "<table border=\"1\" class=\"dataframe\">\n",
       "  <thead>\n",
       "    <tr style=\"text-align: right;\">\n",
       "      <th></th>\n",
       "      <th>sepal length</th>\n",
       "      <th>sepal width</th>\n",
       "      <th>petal length</th>\n",
       "      <th>petal width</th>\n",
       "      <th>iris</th>\n",
       "    </tr>\n",
       "  </thead>\n",
       "  <tbody>\n",
       "    <tr>\n",
       "      <th>1</th>\n",
       "      <td># this data is for IRIS</td>\n",
       "      <td>NaN</td>\n",
       "      <td>NaN</td>\n",
       "      <td>NaN</td>\n",
       "      <td>NaN</td>\n",
       "    </tr>\n",
       "    <tr>\n",
       "      <th>29</th>\n",
       "      <td>5.2</td>\n",
       "      <td>3.4</td>\n",
       "      <td>NaN</td>\n",
       "      <td>0.2</td>\n",
       "      <td>Iris-setosa</td>\n",
       "    </tr>\n",
       "    <tr>\n",
       "      <th>30</th>\n",
       "      <td>NaN</td>\n",
       "      <td>NaN</td>\n",
       "      <td>NaN</td>\n",
       "      <td>NaN</td>\n",
       "      <td>NaN</td>\n",
       "    </tr>\n",
       "    <tr>\n",
       "      <th>34</th>\n",
       "      <td>#is this correct?</td>\n",
       "      <td>NaN</td>\n",
       "      <td>NaN</td>\n",
       "      <td>NaN</td>\n",
       "      <td>NaN</td>\n",
       "    </tr>\n",
       "    <tr>\n",
       "      <th>46</th>\n",
       "      <td>NaN</td>\n",
       "      <td>3.2</td>\n",
       "      <td>2.1</td>\n",
       "      <td>NaN</td>\n",
       "      <td>NaN</td>\n",
       "    </tr>\n",
       "  </tbody>\n",
       "</table>\n",
       "</div>"
      ],
      "text/plain": [
       "               sepal length  sepal width  petal length  petal width  \\\n",
       "1   # this data is for IRIS          NaN           NaN          NaN   \n",
       "29                      5.2          3.4           NaN          0.2   \n",
       "30                      NaN          NaN           NaN          NaN   \n",
       "34        #is this correct?          NaN           NaN          NaN   \n",
       "46                      NaN          3.2           2.1          NaN   \n",
       "\n",
       "           iris  \n",
       "1           NaN  \n",
       "29  Iris-setosa  \n",
       "30          NaN  \n",
       "34          NaN  \n",
       "46          NaN  "
      ]
     },
     "execution_count": 3,
     "metadata": {},
     "output_type": "execute_result"
    },
    {
     "data": {
      "text/plain": [
       "1     4\n",
       "29    1\n",
       "30    5\n",
       "34    4\n",
       "46    3\n",
       "dtype: int64"
      ]
     },
     "execution_count": 3,
     "metadata": {},
     "output_type": "execute_result"
    },
    {
     "data": {
      "text/plain": [
       "sepal length    2\n",
       "sepal width     3\n",
       "petal length    4\n",
       "petal width     4\n",
       "iris            4\n",
       "dtype: int64"
      ]
     },
     "execution_count": 3,
     "metadata": {},
     "output_type": "execute_result"
    },
    {
     "data": {
      "text/html": [
       "<div>\n",
       "<style scoped>\n",
       "    .dataframe tbody tr th:only-of-type {\n",
       "        vertical-align: middle;\n",
       "    }\n",
       "\n",
       "    .dataframe tbody tr th {\n",
       "        vertical-align: top;\n",
       "    }\n",
       "\n",
       "    .dataframe thead th {\n",
       "        text-align: right;\n",
       "    }\n",
       "</style>\n",
       "<table border=\"1\" class=\"dataframe\">\n",
       "  <thead>\n",
       "    <tr style=\"text-align: right;\">\n",
       "      <th></th>\n",
       "      <th>sepal length</th>\n",
       "      <th>sepal width</th>\n",
       "      <th>petal length</th>\n",
       "      <th>petal width</th>\n",
       "      <th>iris</th>\n",
       "    </tr>\n",
       "  </thead>\n",
       "  <tbody>\n",
       "    <tr>\n",
       "      <th>0</th>\n",
       "      <td>5.1</td>\n",
       "      <td>3.5</td>\n",
       "      <td>1.4</td>\n",
       "      <td>0.2</td>\n",
       "      <td>Iris-setosa</td>\n",
       "    </tr>\n",
       "    <tr>\n",
       "      <th>1</th>\n",
       "      <td># this data is for IRIS</td>\n",
       "      <td>NaN</td>\n",
       "      <td>NaN</td>\n",
       "      <td>NaN</td>\n",
       "      <td>NaN</td>\n",
       "    </tr>\n",
       "    <tr>\n",
       "      <th>2</th>\n",
       "      <td>4.9</td>\n",
       "      <td>3.0</td>\n",
       "      <td>1.4</td>\n",
       "      <td>0.2</td>\n",
       "      <td>Iris-setosa</td>\n",
       "    </tr>\n",
       "    <tr>\n",
       "      <th>3</th>\n",
       "      <td>4.7</td>\n",
       "      <td>3.2</td>\n",
       "      <td>1.3</td>\n",
       "      <td>0.2</td>\n",
       "      <td>Iris-setosa</td>\n",
       "    </tr>\n",
       "    <tr>\n",
       "      <th>4</th>\n",
       "      <td>4.6</td>\n",
       "      <td>3.1</td>\n",
       "      <td>1.5</td>\n",
       "      <td>0.2</td>\n",
       "      <td>Iris-setosa</td>\n",
       "    </tr>\n",
       "  </tbody>\n",
       "</table>\n",
       "</div>"
      ],
      "text/plain": [
       "              sepal length  sepal width  petal length  petal width  \\\n",
       "0                      5.1          3.5           1.4          0.2   \n",
       "1  # this data is for IRIS          NaN           NaN          NaN   \n",
       "2                      4.9          3.0           1.4          0.2   \n",
       "3                      4.7          3.2           1.3          0.2   \n",
       "4                      4.6          3.1           1.5          0.2   \n",
       "\n",
       "          iris  \n",
       "0  Iris-setosa  \n",
       "1          NaN  \n",
       "2  Iris-setosa  \n",
       "3  Iris-setosa  \n",
       "4  Iris-setosa  "
      ]
     },
     "execution_count": 3,
     "metadata": {},
     "output_type": "execute_result"
    },
    {
     "data": {
      "text/plain": [
       "sepal length            4.9\n",
       "sepal width             3.1\n",
       "petal length            1.5\n",
       "petal width             0.2\n",
       "iris            Iris-setosa\n",
       "Name: 36, dtype: object"
      ]
     },
     "execution_count": 3,
     "metadata": {},
     "output_type": "execute_result"
    },
    {
     "data": {
      "text/plain": [
       "sepal length            4.9\n",
       "sepal width             3.6\n",
       "petal length            1.4\n",
       "petal width             0.1\n",
       "iris            Iris-setosa\n",
       "Name: 40, dtype: object"
      ]
     },
     "execution_count": 3,
     "metadata": {},
     "output_type": "execute_result"
    },
    {
     "data": {
      "text/html": [
       "<div>\n",
       "<style scoped>\n",
       "    .dataframe tbody tr th:only-of-type {\n",
       "        vertical-align: middle;\n",
       "    }\n",
       "\n",
       "    .dataframe tbody tr th {\n",
       "        vertical-align: top;\n",
       "    }\n",
       "\n",
       "    .dataframe thead th {\n",
       "        text-align: right;\n",
       "    }\n",
       "</style>\n",
       "<table border=\"1\" class=\"dataframe\">\n",
       "  <thead>\n",
       "    <tr style=\"text-align: right;\">\n",
       "      <th></th>\n",
       "      <th>sepal length</th>\n",
       "      <th>sepal width</th>\n",
       "      <th>petal length</th>\n",
       "      <th>petal width</th>\n",
       "      <th>iris</th>\n",
       "    </tr>\n",
       "  </thead>\n",
       "  <tbody>\n",
       "    <tr>\n",
       "      <th>0</th>\n",
       "      <td>5.1</td>\n",
       "      <td>3.5</td>\n",
       "      <td>1.4</td>\n",
       "      <td>0.2</td>\n",
       "      <td>Iris-setosa</td>\n",
       "    </tr>\n",
       "    <tr>\n",
       "      <th>1</th>\n",
       "      <td># this data is for IRIS</td>\n",
       "      <td>NaN</td>\n",
       "      <td>NaN</td>\n",
       "      <td>NaN</td>\n",
       "      <td>NaN</td>\n",
       "    </tr>\n",
       "    <tr>\n",
       "      <th>2</th>\n",
       "      <td>4.9</td>\n",
       "      <td>3.0</td>\n",
       "      <td>1.4</td>\n",
       "      <td>0.2</td>\n",
       "      <td>Iris-setosa</td>\n",
       "    </tr>\n",
       "    <tr>\n",
       "      <th>3</th>\n",
       "      <td>4.7</td>\n",
       "      <td>3.2</td>\n",
       "      <td>1.3</td>\n",
       "      <td>0.2</td>\n",
       "      <td>Iris-setosa</td>\n",
       "    </tr>\n",
       "    <tr>\n",
       "      <th>4</th>\n",
       "      <td>4.6</td>\n",
       "      <td>3.1</td>\n",
       "      <td>1.5</td>\n",
       "      <td>0.2</td>\n",
       "      <td>Iris-setosa</td>\n",
       "    </tr>\n",
       "  </tbody>\n",
       "</table>\n",
       "</div>"
      ],
      "text/plain": [
       "              sepal length  sepal width  petal length  petal width  \\\n",
       "0                      5.1          3.5           1.4          0.2   \n",
       "1  # this data is for IRIS          NaN           NaN          NaN   \n",
       "2                      4.9          3.0           1.4          0.2   \n",
       "3                      4.7          3.2           1.3          0.2   \n",
       "4                      4.6          3.1           1.5          0.2   \n",
       "\n",
       "          iris  \n",
       "0  Iris-setosa  \n",
       "1          NaN  \n",
       "2  Iris-setosa  \n",
       "3  Iris-setosa  \n",
       "4  Iris-setosa  "
      ]
     },
     "execution_count": 3,
     "metadata": {},
     "output_type": "execute_result"
    }
   ],
   "source": [
    "# importing the libraries\n",
    "import pandas as pd\n",
    "import numpy as np\n",
    "import matplotlib.pyplot as plt\n",
    "import scipy.interpolate \n",
    "import scipy.stats\n",
    "\n",
    "#loading the dataset\n",
    "df=pd.read_csv('iris_not_clean.data',sep='|',header=None,names=['sepal length','sepal width','petal length','petal width','iris'])\n",
    "\n",
    "#Rows and columns in the file\n",
    "df.shape\n",
    "\n",
    "#total number of nulls in the file\n",
    "df.isnull().sum().sum()\n",
    "\n",
    "#rows containing nans\n",
    "rows=df[df.isnull().any(axis=1)]\n",
    "rows\n",
    "\n",
    "#number of nans in each row\n",
    "rows.isnull().sum(axis=1)\n",
    "\n",
    "#number of nans in each column\n",
    "df.isnull().sum()\n",
    "\n",
    "df.head(5)\n",
    "\n",
    "#fixing row 35\n",
    "df.loc[36,['sepal length','sepal width','petal length','petal width']]=[4.9,3.1,1.5,0.2]\n",
    "df.loc[36,:]\n",
    "\n",
    "#fixing row 39\n",
    "df.loc[40,['sepal width','petal length']]=[3.6,1.4]\n",
    "df.loc[40,:]\n",
    "\n",
    "df.head(5)\n",
    "\n",
    "df1=pd.DataFrame(df)\n"
   ]
  },
  {
   "cell_type": "markdown",
   "metadata": {},
   "source": [
    "# Step 2: Now the data is neat and cleaned let us do some statistical exploring."
   ]
  },
  {
   "cell_type": "code",
   "execution_count": 4,
   "metadata": {},
   "outputs": [
    {
     "data": {
      "text/plain": [
       "sepal length    5.829801\n",
       "sepal width     3.053289\n",
       "petal length    3.747020\n",
       "petal width     1.192053\n",
       "dtype: float64"
      ]
     },
     "execution_count": 4,
     "metadata": {},
     "output_type": "execute_result"
    },
    {
     "data": {
      "text/plain": [
       "sepal length    0.699973\n",
       "sepal width     0.179724\n",
       "petal length    3.113841\n",
       "petal width     0.585136\n",
       "dtype: float64"
      ]
     },
     "execution_count": 4,
     "metadata": {},
     "output_type": "execute_result"
    },
    {
     "data": {
      "text/html": [
       "<div>\n",
       "<style scoped>\n",
       "    .dataframe tbody tr th:only-of-type {\n",
       "        vertical-align: middle;\n",
       "    }\n",
       "\n",
       "    .dataframe tbody tr th {\n",
       "        vertical-align: top;\n",
       "    }\n",
       "\n",
       "    .dataframe thead th {\n",
       "        text-align: right;\n",
       "    }\n",
       "</style>\n",
       "<table border=\"1\" class=\"dataframe\">\n",
       "  <thead>\n",
       "    <tr style=\"text-align: right;\">\n",
       "      <th></th>\n",
       "      <th>sepal length</th>\n",
       "      <th>sepal width</th>\n",
       "      <th>petal length</th>\n",
       "      <th>petal width</th>\n",
       "    </tr>\n",
       "  </thead>\n",
       "  <tbody>\n",
       "    <tr>\n",
       "      <th>count</th>\n",
       "      <td>151.000000</td>\n",
       "      <td>152.000000</td>\n",
       "      <td>151.000000</td>\n",
       "      <td>151.000000</td>\n",
       "    </tr>\n",
       "    <tr>\n",
       "      <th>mean</th>\n",
       "      <td>5.829801</td>\n",
       "      <td>3.053289</td>\n",
       "      <td>3.747020</td>\n",
       "      <td>1.192053</td>\n",
       "    </tr>\n",
       "    <tr>\n",
       "      <th>std</th>\n",
       "      <td>0.836644</td>\n",
       "      <td>0.423939</td>\n",
       "      <td>1.764608</td>\n",
       "      <td>0.764942</td>\n",
       "    </tr>\n",
       "    <tr>\n",
       "      <th>min</th>\n",
       "      <td>4.300000</td>\n",
       "      <td>2.000000</td>\n",
       "      <td>1.000000</td>\n",
       "      <td>0.100000</td>\n",
       "    </tr>\n",
       "    <tr>\n",
       "      <th>25%</th>\n",
       "      <td>5.100000</td>\n",
       "      <td>2.800000</td>\n",
       "      <td>1.600000</td>\n",
       "      <td>0.300000</td>\n",
       "    </tr>\n",
       "    <tr>\n",
       "      <th>50%</th>\n",
       "      <td>5.800000</td>\n",
       "      <td>3.000000</td>\n",
       "      <td>4.300000</td>\n",
       "      <td>1.300000</td>\n",
       "    </tr>\n",
       "    <tr>\n",
       "      <th>75%</th>\n",
       "      <td>6.400000</td>\n",
       "      <td>3.300000</td>\n",
       "      <td>5.100000</td>\n",
       "      <td>1.800000</td>\n",
       "    </tr>\n",
       "    <tr>\n",
       "      <th>max</th>\n",
       "      <td>7.900000</td>\n",
       "      <td>4.400000</td>\n",
       "      <td>6.900000</td>\n",
       "      <td>2.500000</td>\n",
       "    </tr>\n",
       "  </tbody>\n",
       "</table>\n",
       "</div>"
      ],
      "text/plain": [
       "       sepal length  sepal width  petal length  petal width\n",
       "count    151.000000   152.000000    151.000000   151.000000\n",
       "mean       5.829801     3.053289      3.747020     1.192053\n",
       "std        0.836644     0.423939      1.764608     0.764942\n",
       "min        4.300000     2.000000      1.000000     0.100000\n",
       "25%        5.100000     2.800000      1.600000     0.300000\n",
       "50%        5.800000     3.000000      4.300000     1.300000\n",
       "75%        6.400000     3.300000      5.100000     1.800000\n",
       "max        7.900000     4.400000      6.900000     2.500000"
      ]
     },
     "execution_count": 4,
     "metadata": {},
     "output_type": "execute_result"
    },
    {
     "data": {
      "text/plain": [
       "sepal length    5.834000\n",
       "sepal width     3.050000\n",
       "petal length    3.758000\n",
       "petal width     1.198667\n",
       "dtype: float64"
      ]
     },
     "execution_count": 4,
     "metadata": {},
     "output_type": "execute_result"
    },
    {
     "data": {
      "text/plain": [
       "sepal length    0.701991\n",
       "sepal width     0.181174\n",
       "petal length    3.116412\n",
       "petal width     0.582414\n",
       "dtype: float64"
      ]
     },
     "execution_count": 4,
     "metadata": {},
     "output_type": "execute_result"
    },
    {
     "data": {
      "text/plain": [
       "0.8230783463565978"
      ]
     },
     "execution_count": 4,
     "metadata": {},
     "output_type": "execute_result"
    },
    {
     "data": {
      "text/plain": [
       "-0.35185508063761106"
      ]
     },
     "execution_count": 4,
     "metadata": {},
     "output_type": "execute_result"
    },
    {
     "data": {
      "text/plain": [
       "0.9628049458718142"
      ]
     },
     "execution_count": 4,
     "metadata": {},
     "output_type": "execute_result"
    },
    {
     "data": {
      "text/plain": [
       "{'Iris-setosa': Int64Index([ 0,  2,  3,  4,  5,  6,  7,  8,  9, 10, 11, 12, 13, 14, 15, 16, 17,\n",
       "             18, 19, 20, 21, 22, 23, 24, 25, 26, 27, 28, 31, 32, 33, 35, 36, 37,\n",
       "             38, 39, 40, 41, 42, 43, 44, 45, 47, 48, 49, 50, 51, 52, 53, 54],\n",
       "            dtype='int64'),\n",
       " 'Iris-versicolor': Int64Index([ 55,  56,  57,  58,  59,  60,  61,  62,  63,  64,  65,  66,  67,\n",
       "              68,  69,  70,  71,  72,  73,  74,  75,  76,  77,  78,  79,  80,\n",
       "              81,  82,  83,  84,  85,  86,  87,  88,  89,  90,  91,  92,  93,\n",
       "              94,  95,  96,  97,  98,  99, 100, 101, 102, 103, 104],\n",
       "            dtype='int64'),\n",
       " 'Iris-virginica': Int64Index([105, 106, 107, 108, 109, 110, 111, 112, 113, 114, 115, 116, 117,\n",
       "             118, 119, 120, 121, 122, 123, 124, 125, 126, 127, 128, 129, 130,\n",
       "             131, 132, 133, 134, 135, 136, 137, 138, 139, 140, 141, 142, 143,\n",
       "             144, 145, 146, 147, 148, 149, 150, 151, 152, 153, 154],\n",
       "            dtype='int64')}"
      ]
     },
     "execution_count": 4,
     "metadata": {},
     "output_type": "execute_result"
    },
    {
     "data": {
      "text/plain": [
       "50"
      ]
     },
     "execution_count": 4,
     "metadata": {},
     "output_type": "execute_result"
    },
    {
     "data": {
      "text/plain": [
       "50"
      ]
     },
     "execution_count": 4,
     "metadata": {},
     "output_type": "execute_result"
    },
    {
     "data": {
      "text/plain": [
       "50"
      ]
     },
     "execution_count": 4,
     "metadata": {},
     "output_type": "execute_result"
    },
    {
     "data": {
      "text/html": [
       "<div>\n",
       "<style scoped>\n",
       "    .dataframe tbody tr th:only-of-type {\n",
       "        vertical-align: middle;\n",
       "    }\n",
       "\n",
       "    .dataframe tbody tr th {\n",
       "        vertical-align: top;\n",
       "    }\n",
       "\n",
       "    .dataframe thead th {\n",
       "        text-align: right;\n",
       "    }\n",
       "</style>\n",
       "<table border=\"1\" class=\"dataframe\">\n",
       "  <thead>\n",
       "    <tr style=\"text-align: right;\">\n",
       "      <th></th>\n",
       "      <th>sepal length</th>\n",
       "      <th>sepal width</th>\n",
       "      <th>petal length</th>\n",
       "      <th>petal width</th>\n",
       "      <th>iris</th>\n",
       "    </tr>\n",
       "  </thead>\n",
       "  <tbody>\n",
       "    <tr>\n",
       "      <th>96</th>\n",
       "      <td>6.1</td>\n",
       "      <td>3.0</td>\n",
       "      <td>4.6</td>\n",
       "      <td>1.4</td>\n",
       "      <td>Iris-versicolor</td>\n",
       "    </tr>\n",
       "    <tr>\n",
       "      <th>68</th>\n",
       "      <td>6.1</td>\n",
       "      <td>2.9</td>\n",
       "      <td>4.7</td>\n",
       "      <td>1.4</td>\n",
       "      <td>Iris-versicolor</td>\n",
       "    </tr>\n",
       "    <tr>\n",
       "      <th>108</th>\n",
       "      <td>6.3</td>\n",
       "      <td>2.9</td>\n",
       "      <td>5.6</td>\n",
       "      <td>1.8</td>\n",
       "      <td>Iris-virginica</td>\n",
       "    </tr>\n",
       "    <tr>\n",
       "      <th>7</th>\n",
       "      <td>4.6</td>\n",
       "      <td>3.4</td>\n",
       "      <td>1.4</td>\n",
       "      <td>0.3</td>\n",
       "      <td>Iris-setosa</td>\n",
       "    </tr>\n",
       "    <tr>\n",
       "      <th>64</th>\n",
       "      <td>5.2</td>\n",
       "      <td>2.7</td>\n",
       "      <td>3.9</td>\n",
       "      <td>1.4</td>\n",
       "      <td>Iris-versicolor</td>\n",
       "    </tr>\n",
       "    <tr>\n",
       "      <th>32</th>\n",
       "      <td>4.8</td>\n",
       "      <td>3.1</td>\n",
       "      <td>1.6</td>\n",
       "      <td>0.2</td>\n",
       "      <td>Iris-setosa</td>\n",
       "    </tr>\n",
       "    <tr>\n",
       "      <th>28</th>\n",
       "      <td>5.2</td>\n",
       "      <td>3.5</td>\n",
       "      <td>1.5</td>\n",
       "      <td>0.2</td>\n",
       "      <td>Iris-setosa</td>\n",
       "    </tr>\n",
       "    <tr>\n",
       "      <th>39</th>\n",
       "      <td>5.5</td>\n",
       "      <td>3.5</td>\n",
       "      <td>1.3</td>\n",
       "      <td>0.2</td>\n",
       "      <td>Iris-setosa</td>\n",
       "    </tr>\n",
       "    <tr>\n",
       "      <th>104</th>\n",
       "      <td>5.7</td>\n",
       "      <td>2.8</td>\n",
       "      <td>4.1</td>\n",
       "      <td>1.3</td>\n",
       "      <td>Iris-versicolor</td>\n",
       "    </tr>\n",
       "    <tr>\n",
       "      <th>127</th>\n",
       "      <td>7.7</td>\n",
       "      <td>2.8</td>\n",
       "      <td>6.7</td>\n",
       "      <td>2.0</td>\n",
       "      <td>Iris-virginica</td>\n",
       "    </tr>\n",
       "    <tr>\n",
       "      <th>87</th>\n",
       "      <td>5.8</td>\n",
       "      <td>2.7</td>\n",
       "      <td>3.9</td>\n",
       "      <td>1.2</td>\n",
       "      <td>Iris-versicolor</td>\n",
       "    </tr>\n",
       "    <tr>\n",
       "      <th>47</th>\n",
       "      <td>5.0</td>\n",
       "      <td>3.5</td>\n",
       "      <td>1.6</td>\n",
       "      <td>0.6</td>\n",
       "      <td>Iris-setosa</td>\n",
       "    </tr>\n",
       "    <tr>\n",
       "      <th>122</th>\n",
       "      <td>7.7</td>\n",
       "      <td>3.8</td>\n",
       "      <td>6.7</td>\n",
       "      <td>2.2</td>\n",
       "      <td>Iris-virginica</td>\n",
       "    </tr>\n",
       "    <tr>\n",
       "      <th>66</th>\n",
       "      <td>5.9</td>\n",
       "      <td>3.0</td>\n",
       "      <td>4.2</td>\n",
       "      <td>1.5</td>\n",
       "      <td>Iris-versicolor</td>\n",
       "    </tr>\n",
       "    <tr>\n",
       "      <th>48</th>\n",
       "      <td>5.1</td>\n",
       "      <td>3.8</td>\n",
       "      <td>1.9</td>\n",
       "      <td>0.4</td>\n",
       "      <td>Iris-setosa</td>\n",
       "    </tr>\n",
       "    <tr>\n",
       "      <th>84</th>\n",
       "      <td>5.7</td>\n",
       "      <td>2.6</td>\n",
       "      <td>3.5</td>\n",
       "      <td>1.0</td>\n",
       "      <td>Iris-versicolor</td>\n",
       "    </tr>\n",
       "    <tr>\n",
       "      <th>105</th>\n",
       "      <td>6.3</td>\n",
       "      <td>3.3</td>\n",
       "      <td>6.0</td>\n",
       "      <td>2.5</td>\n",
       "      <td>Iris-virginica</td>\n",
       "    </tr>\n",
       "    <tr>\n",
       "      <th>26</th>\n",
       "      <td>5.0</td>\n",
       "      <td>3.0</td>\n",
       "      <td>1.6</td>\n",
       "      <td>0.2</td>\n",
       "      <td>Iris-setosa</td>\n",
       "    </tr>\n",
       "    <tr>\n",
       "      <th>113</th>\n",
       "      <td>6.7</td>\n",
       "      <td>2.5</td>\n",
       "      <td>5.8</td>\n",
       "      <td>1.8</td>\n",
       "      <td>Iris-virginica</td>\n",
       "    </tr>\n",
       "    <tr>\n",
       "      <th>99</th>\n",
       "      <td>5.6</td>\n",
       "      <td>2.7</td>\n",
       "      <td>4.2</td>\n",
       "      <td>1.3</td>\n",
       "      <td>Iris-versicolor</td>\n",
       "    </tr>\n",
       "  </tbody>\n",
       "</table>\n",
       "</div>"
      ],
      "text/plain": [
       "     sepal length  sepal width  petal length  petal width             iris\n",
       "96            6.1          3.0           4.6          1.4  Iris-versicolor\n",
       "68            6.1          2.9           4.7          1.4  Iris-versicolor\n",
       "108           6.3          2.9           5.6          1.8   Iris-virginica\n",
       "7             4.6          3.4           1.4          0.3      Iris-setosa\n",
       "64            5.2          2.7           3.9          1.4  Iris-versicolor\n",
       "32            4.8          3.1           1.6          0.2      Iris-setosa\n",
       "28            5.2          3.5           1.5          0.2      Iris-setosa\n",
       "39            5.5          3.5           1.3          0.2      Iris-setosa\n",
       "104           5.7          2.8           4.1          1.3  Iris-versicolor\n",
       "127           7.7          2.8           6.7          2.0   Iris-virginica\n",
       "87            5.8          2.7           3.9          1.2  Iris-versicolor\n",
       "47            5.0          3.5           1.6          0.6      Iris-setosa\n",
       "122           7.7          3.8           6.7          2.2   Iris-virginica\n",
       "66            5.9          3.0           4.2          1.5  Iris-versicolor\n",
       "48            5.1          3.8           1.9          0.4      Iris-setosa\n",
       "84            5.7          2.6           3.5          1.0  Iris-versicolor\n",
       "105           6.3          3.3           6.0          2.5   Iris-virginica\n",
       "26            5.0          3.0           1.6          0.2      Iris-setosa\n",
       "113           6.7          2.5           5.8          1.8   Iris-virginica\n",
       "99            5.6          2.7           4.2          1.3  Iris-versicolor"
      ]
     },
     "execution_count": 4,
     "metadata": {},
     "output_type": "execute_result"
    },
    {
     "data": {
      "text/plain": [
       "array([[<matplotlib.axes._subplots.AxesSubplot object at 0x000002101FE5FDD8>]],\n",
       "      dtype=object)"
      ]
     },
     "execution_count": 4,
     "metadata": {},
     "output_type": "execute_result"
    },
    {
     "data": {
      "text/plain": [
       "array([[<matplotlib.axes._subplots.AxesSubplot object at 0x000002101C79A438>]],\n",
       "      dtype=object)"
      ]
     },
     "execution_count": 4,
     "metadata": {},
     "output_type": "execute_result"
    },
    {
     "data": {
      "text/plain": [
       "array([[<matplotlib.axes._subplots.AxesSubplot object at 0x0000021020108400>]],\n",
       "      dtype=object)"
      ]
     },
     "execution_count": 4,
     "metadata": {},
     "output_type": "execute_result"
    },
    {
     "data": {
      "text/plain": [
       "array([[<matplotlib.axes._subplots.AxesSubplot object at 0x0000021020108438>]],\n",
       "      dtype=object)"
      ]
     },
     "execution_count": 4,
     "metadata": {},
     "output_type": "execute_result"
    },
    {
     "data": {
      "text/plain": [
       "array([[<matplotlib.axes._subplots.AxesSubplot object at 0x00000210201EC9E8>,\n",
       "        <matplotlib.axes._subplots.AxesSubplot object at 0x0000021020234780>],\n",
       "       [<matplotlib.axes._subplots.AxesSubplot object at 0x0000021020259E10>,\n",
       "        <matplotlib.axes._subplots.AxesSubplot object at 0x000002102028A4E0>]],\n",
       "      dtype=object)"
      ]
     },
     "execution_count": 4,
     "metadata": {},
     "output_type": "execute_result"
    },
    {
     "data": {
      "text/plain": [
       "array([[<matplotlib.axes._subplots.AxesSubplot object at 0x00000210201ECA20>,\n",
       "        <matplotlib.axes._subplots.AxesSubplot object at 0x000002102033FB38>],\n",
       "       [<matplotlib.axes._subplots.AxesSubplot object at 0x000002102036F208>,\n",
       "        <matplotlib.axes._subplots.AxesSubplot object at 0x0000021020395898>]],\n",
       "      dtype=object)"
      ]
     },
     "execution_count": 4,
     "metadata": {},
     "output_type": "execute_result"
    },
    {
     "data": {
      "text/plain": [
       "array([[<matplotlib.axes._subplots.AxesSubplot object at 0x00000210201FFB38>,\n",
       "        <matplotlib.axes._subplots.AxesSubplot object at 0x0000021020449CF8>],\n",
       "       [<matplotlib.axes._subplots.AxesSubplot object at 0x000002102047A3C8>,\n",
       "        <matplotlib.axes._subplots.AxesSubplot object at 0x00000210204A0A58>]],\n",
       "      dtype=object)"
      ]
     },
     "execution_count": 4,
     "metadata": {},
     "output_type": "execute_result"
    },
    {
     "data": {
      "image/png": "[encoded data removed]",
      "text/plain": [
       "<Figure size 432x288 with 1 Axes>"
      ]
     },
     "metadata": {
      "needs_background": "light"
     },
     "output_type": "display_data"
    },
    {
     "data": {
      "image/png": "[encoded data removed]",
      "text/plain": [
       "<Figure size 432x288 with 1 Axes>"
      ]
     },
     "metadata": {
      "needs_background": "light"
     },
     "output_type": "display_data"
    },
    {
     "data": {
      "image/png": "[encoded data removed]",
      "text/plain": [
       "<Figure size 432x288 with 1 Axes>"
      ]
     },
     "metadata": {
      "needs_background": "light"
     },
     "output_type": "display_data"
    },
    {
     "data": {
      "image/png": "[encoded data removed]",
      "text/plain": [
       "<Figure size 432x288 with 1 Axes>"
      ]
     },
     "metadata": {
      "needs_background": "light"
     },
     "output_type": "display_data"
    },
    {
     "data": {
      "image/png": "[encoded data removed]",
      "text/plain": [
       "<Figure size 360x360 with 4 Axes>"
      ]
     },
     "metadata": {
      "needs_background": "light"
     },
     "output_type": "display_data"
    },
    {
     "data": {
      "image/png": "[encoded data removed]",
      "text/plain": [
       "<Figure size 360x360 with 4 Axes>"
      ]
     },
     "metadata": {
      "needs_background": "light"
     },
     "output_type": "display_data"
    },
    {
     "data": {
      "image/png": "[encoded data removed]",
      "text/plain": [
       "<Figure size 360x360 with 4 Axes>"
      ]
     },
     "metadata": {
      "needs_background": "light"
     },
     "output_type": "display_data"
    }
   ],
   "source": [
    "#mean and variance and summary\n",
    "df1.loc[[1,34],['sepal length']]=[np.nan]\n",
    "df1['sepal length']=pd.to_numeric(df1['sepal length'])\n",
    "df1.mean()\n",
    "df1.var()\n",
    "df1.describe()\n",
    "\n",
    "#dropping the nans\n",
    "df2=df.drop([1,29,30,34,46])\n",
    "\n",
    "#recalculating mean and variance\n",
    "df2.mean()\n",
    "df2.var()\n",
    "\n",
    "#calculating the correlation between petal width and other three columns\n",
    "df2['petal width'].corr(df2['sepal length'])\n",
    "df2['petal width'].corr(df2['sepal width'])\n",
    "df2['petal width'].corr(df2['petal length'])\n",
    "\n",
    "#number of records for each class\n",
    "df3=df2.groupby(df2['iris']).groups\n",
    "df3\n",
    "len(df3['Iris-setosa'])\n",
    "len(df3['Iris-versicolor'])\n",
    "len(df3['Iris-virginica'])\n",
    "\n",
    "#20 random samples from the data\n",
    "np.random.seed(1234)\n",
    "seed=df2.sample(n=20)\n",
    "seed\n",
    "\n",
    "#histogram for all data attributes\n",
    "df2.hist('sepal length')\n",
    "df2.hist('sepal width')\n",
    "df2.hist('petal length')\n",
    "df2.hist('petal width')\n",
    "\n",
    "\n",
    "#histogram grouped by features\n",
    "df4=df2.groupby(df2['iris'])\n",
    "for x in df4.groups:\n",
    "    df4.get_group(name=x).hist(figsize=(5,5))\n",
    "\n"
   ]
  },
  {
   "cell_type": "markdown",
   "metadata": {},
   "source": [
    "Insights:\n",
    "1. We can observe that the mean sepal length is 5.82, mean sepal width is 3.05, mean petal length is 3.74 and mean petal width is 1.19\n",
    "2. When we take a look at the variance of the dataset the variance of petal length is 3.11 which means that there is a large change among the numbers, Variance of sepal length is 0.69 and petal width is 0.58 which indicates there is small change among those numbers and the sepal width has the least variance.\n",
    "3. When we take a look at the descriptive statistics we can observe that the number of entities for each attributes is the same for three of them and sepal length has 152 entities.\n",
    "4. To get an accurate value we dropped the nulls and recalculated the mean and the variance\n",
    "5. Now to find out the relationship between the attributes, lets find the corelation between petal width and other three columns. There is a good positive relationship between petal width and sepal length, petal width and petal length. But there is a negative relationship between petal width and sepal width.\n",
    "6. Now its time to visualize the data, "
   ]
  },
  {
   "cell_type": "markdown",
   "metadata": {},
   "source": [
    "# Step 3: Pdf curve fitting for petal length \n"
   ]
  },
  {
   "cell_type": "code",
   "execution_count": 4,
   "metadata": {},
   "outputs": [
    {
     "data": {
      "text/plain": [
       "<Figure size 576x576 with 0 Axes>"
      ]
     },
     "execution_count": 4,
     "metadata": {},
     "output_type": "execute_result"
    },
    {
     "data": {
      "text/plain": [
       "[<matplotlib.lines.Line2D at 0x236459ea6a0>]"
      ]
     },
     "execution_count": 4,
     "metadata": {},
     "output_type": "execute_result"
    },
    {
     "data": {
      "text/plain": [
       "[<matplotlib.lines.Line2D at 0x23640cfc860>]"
      ]
     },
     "execution_count": 4,
     "metadata": {},
     "output_type": "execute_result"
    },
    {
     "data": {
      "text/plain": [
       "Text(0,0.5,'Density')"
      ]
     },
     "execution_count": 4,
     "metadata": {},
     "output_type": "execute_result"
    },
    {
     "data": {
      "text/plain": [
       "<matplotlib.legend.Legend at 0x236459eac50>"
      ]
     },
     "execution_count": 4,
     "metadata": {},
     "output_type": "execute_result"
    },
    {
     "data": {
      "text/plain": [
       "<Figure size 576x576 with 0 Axes>"
      ]
     },
     "execution_count": 4,
     "metadata": {},
     "output_type": "execute_result"
    },
    {
     "data": {
      "text/plain": [
       "(array([0.4180791 , 0.14689266, 0.        , 0.03389831, 0.09039548,\n",
       "        0.29378531, 0.32768362, 0.20338983, 0.12429379, 0.05649718]),\n",
       " array([1.  , 1.59, 2.18, 2.77, 3.36, 3.95, 4.54, 5.13, 5.72, 6.31, 6.9 ]),\n",
       " <a list of 10 Patch objects>)"
      ]
     },
     "execution_count": 4,
     "metadata": {},
     "output_type": "execute_result"
    },
    {
     "data": {
      "text/plain": [
       "[<matplotlib.lines.Line2D at 0x23645a03b38>]"
      ]
     },
     "execution_count": 4,
     "metadata": {},
     "output_type": "execute_result"
    },
    {
     "data": {
      "text/plain": [
       "Text(0,0.5,'Density')"
      ]
     },
     "execution_count": 4,
     "metadata": {},
     "output_type": "execute_result"
    },
    {
     "data": {
      "text/plain": [
       "<matplotlib.legend.Legend at 0x2364598a128>"
      ]
     },
     "execution_count": 4,
     "metadata": {},
     "output_type": "execute_result"
    },
    {
     "data": {
      "text/plain": [
       "array([-0.87132703, -0.422164  ,  0.98486213,  0.0916698 , -0.16621239,\n",
       "        0.71132291, -0.88196879, -0.32140819,  0.48456798,  0.7621959 ,\n",
       "        0.70094294,  0.48371057,  0.68313302,  1.56212079, -0.58330278,\n",
       "       -0.27167212,  1.41886006, -1.08946196,  1.06393196, -1.5259648 ,\n",
       "       -0.2701974 ,  0.92511526, -0.03298404, -0.01656554,  0.84064289,\n",
       "       -1.6643652 ,  0.195177  ,  0.5368008 , -0.11269004, -0.48819154,\n",
       "       -0.55955629,  0.55348709, -1.59174525,  0.49919649, -0.37939864,\n",
       "       -0.20439313,  0.78371608,  0.76355358,  0.32013832,  0.2278366 ,\n",
       "        0.88915225,  1.96337644,  0.70670462, -0.89730644, -2.02246741,\n",
       "        1.99154794, -1.67511842,  1.26996666,  0.85678894, -0.32027566,\n",
       "        0.76268139, -0.78925058,  1.23926598, -0.46015556,  0.76717147,\n",
       "        1.05287751, -0.05028506,  2.44027931,  0.57401914,  0.87811918,\n",
       "       -0.38858187,  0.03290831,  1.45179994, -0.70621571, -2.02018753,\n",
       "       -0.22507331, -0.77313012,  0.45309254,  0.66111033, -0.61396459,\n",
       "       -0.18471097, -0.77501081, -0.71273726,  0.3786869 ,  0.78725432,\n",
       "        0.35073578,  1.12244764,  1.16377871,  0.10862772, -0.36386959,\n",
       "       -0.74604004, -1.04171782,  0.34212056, -0.01567469,  2.33574844,\n",
       "        0.33883016, -1.18860336,  1.64784212, -1.9192292 , -1.11540813,\n",
       "        0.59890466,  0.22351051,  1.51327808, -1.2063729 , -0.95033504,\n",
       "       -0.34499958, -0.16629016, -1.17655386,  0.45933652, -0.34256766,\n",
       "       -1.22274328, -0.64647084,  1.35388467, -0.18290047,  0.08632764,\n",
       "        1.13514495,  0.5326033 , -0.80934798, -0.07967038, -0.38265583,\n",
       "        0.39153914, -0.33994233,  1.28589901, -0.56667757, -0.30346584,\n",
       "        0.28920709,  2.12408576,  0.9971306 ,  0.71794252, -0.34599403,\n",
       "        1.23980872,  2.29898345,  1.64636479,  1.19699886,  0.92586333,\n",
       "       -0.50381616,  0.60695143,  0.85060143, -0.12009573,  2.07599208,\n",
       "        0.55756966,  1.03204668,  0.3625806 , -1.94743529, -0.26169922,\n",
       "        0.03413282,  1.24273551,  0.35863666,  0.22794511,  0.40108592,\n",
       "       -0.05958152, -0.6474427 , -1.15901932,  0.33379962,  0.66123643,\n",
       "        2.83993758,  0.47146427,  0.73678998, -0.2111891 ,  0.56147188,\n",
       "        0.92058095, -0.99746112, -1.34111276,  1.20176204,  1.22680596])"
      ]
     },
     "execution_count": 4,
     "metadata": {},
     "output_type": "execute_result"
    },
    {
     "data": {
      "text/plain": [
       "array([[ 5.15362866],\n",
       "       [ 4.32903655],\n",
       "       [ 1.69122686],\n",
       "       [ 6.80783815],\n",
       "       [ 3.29035916],\n",
       "       [ 5.68813745],\n",
       "       [ 1.58216068],\n",
       "       [ 1.50243657],\n",
       "       [ 4.777627  ],\n",
       "       [ 0.756387  ],\n",
       "       [ 1.85896922],\n",
       "       [ 1.27335461],\n",
       "       [ 4.78905055],\n",
       "       [ 2.49112964],\n",
       "       [ 5.23314522],\n",
       "       [ 4.10284847],\n",
       "       [ 4.06154962],\n",
       "       [ 4.19381296],\n",
       "       [ 2.19765325],\n",
       "       [ 4.63535744],\n",
       "       [ 6.92720111],\n",
       "       [ 4.38520745],\n",
       "       [ 4.65123282],\n",
       "       [ 4.41526653],\n",
       "       [ 0.97213761],\n",
       "       [ 1.29347591],\n",
       "       [ 5.23167804],\n",
       "       [ 1.61495564],\n",
       "       [ 4.73736641],\n",
       "       [ 1.11523217],\n",
       "       [ 4.25887573],\n",
       "       [ 1.92926055],\n",
       "       [ 4.22140127],\n",
       "       [ 4.18214162],\n",
       "       [ 1.15734599],\n",
       "       [-0.15370486],\n",
       "       [ 5.89866603],\n",
       "       [ 1.340882  ],\n",
       "       [ 1.31566793],\n",
       "       [ 0.6798263 ],\n",
       "       [ 2.558702  ],\n",
       "       [ 5.37026028],\n",
       "       [ 1.23210945],\n",
       "       [ 4.25031209],\n",
       "       [ 5.33320041],\n",
       "       [ 5.15686932],\n",
       "       [ 6.18512168],\n",
       "       [ 4.32065985],\n",
       "       [ 4.77045074],\n",
       "       [ 1.3672477 ],\n",
       "       [ 3.06410298],\n",
       "       [ 0.39335494],\n",
       "       [ 3.29307874],\n",
       "       [ 1.84155298],\n",
       "       [ 1.9608371 ],\n",
       "       [ 4.65901943],\n",
       "       [ 6.50942324],\n",
       "       [ 2.67100596],\n",
       "       [ 4.73880143],\n",
       "       [ 4.92748007],\n",
       "       [ 1.78413771],\n",
       "       [ 1.71036107],\n",
       "       [ 0.1648052 ],\n",
       "       [ 5.88701542],\n",
       "       [ 4.0483808 ],\n",
       "       [ 5.5112071 ],\n",
       "       [ 2.03691608],\n",
       "       [ 5.58357262],\n",
       "       [ 4.51365135],\n",
       "       [ 3.59908613],\n",
       "       [ 4.46030927],\n",
       "       [ 3.62625311],\n",
       "       [ 5.43719047],\n",
       "       [ 5.84545424],\n",
       "       [ 5.91925028],\n",
       "       [ 2.16260523],\n",
       "       [ 4.58643119],\n",
       "       [ 5.47699801],\n",
       "       [ 4.97835957],\n",
       "       [ 5.83698657],\n",
       "       [ 5.70104623],\n",
       "       [ 1.79229359],\n",
       "       [ 5.22587039],\n",
       "       [ 1.61773321],\n",
       "       [ 3.47788519],\n",
       "       [ 1.44401067],\n",
       "       [ 4.57603325],\n",
       "       [ 5.48931222],\n",
       "       [ 3.17301227],\n",
       "       [ 4.59625276],\n",
       "       [ 4.68544421],\n",
       "       [ 1.1851509 ],\n",
       "       [ 1.28153745],\n",
       "       [ 6.87143157],\n",
       "       [ 1.76657546],\n",
       "       [ 5.07916445],\n",
       "       [ 4.78704591],\n",
       "       [ 0.80569846],\n",
       "       [ 1.26859512],\n",
       "       [ 5.15220871],\n",
       "       [ 4.56900633],\n",
       "       [ 4.77576553],\n",
       "       [ 0.9644406 ],\n",
       "       [ 1.02274686],\n",
       "       [ 2.47114976],\n",
       "       [ 5.36660017],\n",
       "       [ 4.40303686],\n",
       "       [ 3.33292823],\n",
       "       [ 3.97317941],\n",
       "       [ 5.03208095],\n",
       "       [ 2.7594819 ],\n",
       "       [ 5.53140618],\n",
       "       [ 1.27519276],\n",
       "       [ 1.95008612],\n",
       "       [ 4.69903548],\n",
       "       [ 6.12082512],\n",
       "       [ 1.27163732],\n",
       "       [ 2.90811162],\n",
       "       [ 5.69771581],\n",
       "       [ 0.75175969],\n",
       "       [ 4.57822658],\n",
       "       [ 4.8939257 ],\n",
       "       [ 0.70004239],\n",
       "       [ 4.0038583 ],\n",
       "       [ 4.46612396],\n",
       "       [ 4.36902682],\n",
       "       [ 1.5365554 ],\n",
       "       [ 3.91876035],\n",
       "       [ 4.78250533],\n",
       "       [ 6.96152722],\n",
       "       [ 3.34929521],\n",
       "       [ 2.26023692],\n",
       "       [ 3.85810614],\n",
       "       [ 6.71921752],\n",
       "       [ 4.63218044],\n",
       "       [ 2.69915215],\n",
       "       [ 1.38397192],\n",
       "       [ 1.62537469],\n",
       "       [ 2.97808394],\n",
       "       [ 2.06925732],\n",
       "       [ 2.6725184 ],\n",
       "       [ 4.31016276],\n",
       "       [ 0.82899466],\n",
       "       [ 1.75526228],\n",
       "       [ 0.684335  ],\n",
       "       [ 5.81548125],\n",
       "       [ 4.94278296],\n",
       "       [ 3.47384524],\n",
       "       [ 4.83127767],\n",
       "       [ 4.84017168],\n",
       "       [ 5.33411744],\n",
       "       [ 5.04554653],\n",
       "       [ 2.55215   ],\n",
       "       [ 1.45313071],\n",
       "       [ 4.10131057],\n",
       "       [ 1.43060182],\n",
       "       [ 4.77693409],\n",
       "       [ 2.87332391],\n",
       "       [ 0.99968059],\n",
       "       [ 2.14119129],\n",
       "       [ 4.89991433],\n",
       "       [ 6.50489398],\n",
       "       [ 4.6843656 ],\n",
       "       [ 4.2768327 ],\n",
       "       [ 2.30721877],\n",
       "       [ 2.22592139],\n",
       "       [ 1.09082139],\n",
       "       [ 1.44360875],\n",
       "       [ 1.24415505],\n",
       "       [ 5.47949822],\n",
       "       [ 5.52863276],\n",
       "       [ 0.72342601],\n",
       "       [ 0.91019333],\n",
       "       [ 3.61491571],\n",
       "       [ 4.52992953],\n",
       "       [ 5.8780707 ],\n",
       "       [ 3.95381475],\n",
       "       [ 4.63160803],\n",
       "       [ 1.19752153],\n",
       "       [ 1.79065719],\n",
       "       [ 5.76142025],\n",
       "       [ 5.39540643],\n",
       "       [ 3.5265371 ],\n",
       "       [ 0.63414778],\n",
       "       [ 4.90128262],\n",
       "       [ 5.61127386],\n",
       "       [ 3.99013275],\n",
       "       [ 2.48894395],\n",
       "       [ 5.60927311],\n",
       "       [ 3.71547479],\n",
       "       [ 4.98964436],\n",
       "       [ 2.48394748],\n",
       "       [ 1.14953414],\n",
       "       [ 5.25664995],\n",
       "       [ 4.98880603],\n",
       "       [ 3.15924389],\n",
       "       [ 6.81484609],\n",
       "       [ 3.7515602 ],\n",
       "       [ 5.7933433 ],\n",
       "       [ 1.87253542],\n",
       "       [ 1.88108361],\n",
       "       [ 4.70962034],\n",
       "       [ 3.43084418],\n",
       "       [ 0.17577518],\n",
       "       [ 4.97605004],\n",
       "       [ 1.66422964],\n",
       "       [ 1.16469922],\n",
       "       [ 1.01879908],\n",
       "       [ 4.91681155],\n",
       "       [ 3.82911889],\n",
       "       [ 5.71647674],\n",
       "       [ 5.61714428],\n",
       "       [ 0.6318054 ],\n",
       "       [ 5.14482599],\n",
       "       [ 3.23478655],\n",
       "       [ 0.95412371],\n",
       "       [ 4.97157214],\n",
       "       [ 4.9679077 ],\n",
       "       [ 1.96502645],\n",
       "       [ 3.96961105],\n",
       "       [ 1.24267183],\n",
       "       [ 1.07515268],\n",
       "       [ 3.94757681],\n",
       "       [ 6.59727856],\n",
       "       [ 5.81438172],\n",
       "       [ 7.0240706 ],\n",
       "       [ 2.86441441],\n",
       "       [ 4.91960369],\n",
       "       [ 1.62383937],\n",
       "       [ 4.48893516],\n",
       "       [ 3.48602078],\n",
       "       [ 6.29162379],\n",
       "       [ 1.83405703],\n",
       "       [ 4.85209474],\n",
       "       [ 0.80557725],\n",
       "       [ 5.47867492],\n",
       "       [ 3.63217408],\n",
       "       [ 3.58579511],\n",
       "       [ 1.38084303],\n",
       "       [ 4.30356708],\n",
       "       [ 5.16472868],\n",
       "       [ 0.93792411],\n",
       "       [ 3.65736224],\n",
       "       [ 4.97029979],\n",
       "       [ 5.3942474 ],\n",
       "       [ 5.03457036],\n",
       "       [ 3.51355001],\n",
       "       [ 4.29074662],\n",
       "       [ 1.34011233],\n",
       "       [ 1.59285807],\n",
       "       [ 4.87719194],\n",
       "       [ 4.95530681],\n",
       "       [ 3.85016347],\n",
       "       [ 5.83928452],\n",
       "       [ 1.73238512],\n",
       "       [ 4.9036077 ],\n",
       "       [ 5.57059766],\n",
       "       [ 0.84345265],\n",
       "       [ 3.02133271],\n",
       "       [ 4.84835654],\n",
       "       [ 6.60815194],\n",
       "       [ 1.47086762],\n",
       "       [ 3.98013149],\n",
       "       [ 1.37027843],\n",
       "       [ 4.48808642],\n",
       "       [ 5.30909134],\n",
       "       [ 3.93020404],\n",
       "       [ 2.54338728],\n",
       "       [ 1.92646862],\n",
       "       [ 3.73460626],\n",
       "       [ 4.77106894],\n",
       "       [ 4.21574657],\n",
       "       [ 1.62414282],\n",
       "       [ 5.08972491],\n",
       "       [ 5.50666291],\n",
       "       [ 4.14554303],\n",
       "       [ 0.56465119],\n",
       "       [ 4.0833659 ],\n",
       "       [ 5.01761298],\n",
       "       [ 5.91875751],\n",
       "       [ 4.86354945],\n",
       "       [ 2.31582911],\n",
       "       [ 3.59546736],\n",
       "       [ 1.14036212],\n",
       "       [ 0.36312613],\n",
       "       [ 2.71470688],\n",
       "       [ 0.88890785],\n",
       "       [ 5.553788  ],\n",
       "       [ 5.04500098],\n",
       "       [ 3.6370312 ],\n",
       "       [ 5.90689897],\n",
       "       [ 4.7907002 ],\n",
       "       [ 4.43809456],\n",
       "       [ 3.35028825],\n",
       "       [ 6.78242322],\n",
       "       [ 7.2094549 ],\n",
       "       [ 4.29523416],\n",
       "       [ 5.2625187 ],\n",
       "       [ 5.32650953],\n",
       "       [ 1.9261492 ],\n",
       "       [ 5.92966197],\n",
       "       [ 5.60719205],\n",
       "       [ 6.38308876],\n",
       "       [ 5.28667651],\n",
       "       [ 1.87781855],\n",
       "       [ 4.04278562],\n",
       "       [ 1.833192  ],\n",
       "       [ 4.16756525],\n",
       "       [ 6.58211939],\n",
       "       [ 3.58272753],\n",
       "       [ 1.4582608 ],\n",
       "       [ 4.6091517 ],\n",
       "       [ 1.25558794],\n",
       "       [ 1.59985685],\n",
       "       [ 2.28052723],\n",
       "       [ 5.79067437],\n",
       "       [ 2.11706466],\n",
       "       [ 4.85806394],\n",
       "       [ 3.75273675],\n",
       "       [ 5.06380954],\n",
       "       [ 4.36746897],\n",
       "       [ 6.41407863],\n",
       "       [ 0.61520474],\n",
       "       [ 5.64675614],\n",
       "       [ 4.49735356],\n",
       "       [ 5.9650558 ],\n",
       "       [ 1.84341147],\n",
       "       [ 4.40790383],\n",
       "       [ 1.91966446],\n",
       "       [ 1.12492392],\n",
       "       [ 2.32507509],\n",
       "       [ 6.5171472 ],\n",
       "       [ 5.32524301],\n",
       "       [ 0.61097909],\n",
       "       [ 1.32734762],\n",
       "       [ 1.90497078],\n",
       "       [ 1.63337109],\n",
       "       [ 0.91994101],\n",
       "       [ 4.15569597],\n",
       "       [ 5.45320903],\n",
       "       [ 1.62388785],\n",
       "       [ 1.28253505],\n",
       "       [ 2.45328081],\n",
       "       [ 5.26588706],\n",
       "       [ 2.8920609 ],\n",
       "       [ 5.59550712],\n",
       "       [ 0.62917996],\n",
       "       [ 4.35338521],\n",
       "       [ 4.98600349],\n",
       "       [ 0.68377948],\n",
       "       [ 0.81569292],\n",
       "       [ 1.86189056],\n",
       "       [ 2.40794435],\n",
       "       [ 5.71915765],\n",
       "       [ 4.58025594],\n",
       "       [ 5.78756544],\n",
       "       [ 3.70461765],\n",
       "       [ 1.76857503],\n",
       "       [ 4.71555637],\n",
       "       [ 4.43818447],\n",
       "       [ 4.32381722],\n",
       "       [ 6.22584654],\n",
       "       [ 4.67031618],\n",
       "       [ 5.51032737],\n",
       "       [ 3.37614104],\n",
       "       [ 4.18916318],\n",
       "       [ 6.18418125],\n",
       "       [ 0.45459076],\n",
       "       [ 4.44977596],\n",
       "       [ 5.72486803],\n",
       "       [ 5.56652158],\n",
       "       [ 4.27920343],\n",
       "       [ 4.99632243],\n",
       "       [ 4.58308725],\n",
       "       [ 4.33640318],\n",
       "       [ 5.50133607],\n",
       "       [ 2.03134395],\n",
       "       [ 4.40671955],\n",
       "       [ 6.95520257],\n",
       "       [ 5.17590163],\n",
       "       [ 6.61572263],\n",
       "       [ 4.24484083],\n",
       "       [ 4.68456057],\n",
       "       [ 1.71144161],\n",
       "       [ 1.05554058],\n",
       "       [ 2.06056302],\n",
       "       [ 4.96723941],\n",
       "       [ 5.53061102],\n",
       "       [ 1.24310252],\n",
       "       [ 0.71514513],\n",
       "       [ 5.51706103],\n",
       "       [ 1.41265118],\n",
       "       [ 4.93871602],\n",
       "       [ 1.27759924],\n",
       "       [ 5.91573702],\n",
       "       [ 1.9961902 ],\n",
       "       [ 4.67392201],\n",
       "       [ 2.81761916],\n",
       "       [ 1.80826156],\n",
       "       [ 3.16643276],\n",
       "       [ 3.68061366],\n",
       "       [ 5.35298167],\n",
       "       [ 2.72516125],\n",
       "       [ 6.00629827],\n",
       "       [ 0.65519578],\n",
       "       [ 5.32217746],\n",
       "       [ 7.34089897],\n",
       "       [ 0.37210278],\n",
       "       [ 3.8938731 ],\n",
       "       [ 1.37761793],\n",
       "       [ 4.63682112],\n",
       "       [ 2.64447825],\n",
       "       [ 1.86727023],\n",
       "       [ 4.58448444],\n",
       "       [ 6.797204  ],\n",
       "       [ 1.80067806],\n",
       "       [ 5.20912316],\n",
       "       [ 5.7464674 ],\n",
       "       [ 5.9738076 ],\n",
       "       [ 3.65240358],\n",
       "       [ 7.09941939],\n",
       "       [ 6.90218539],\n",
       "       [ 4.72901543],\n",
       "       [ 5.51806205],\n",
       "       [ 5.58505824],\n",
       "       [ 5.17680495],\n",
       "       [ 2.6185317 ],\n",
       "       [ 2.83680854],\n",
       "       [ 2.02125726],\n",
       "       [ 5.37225344],\n",
       "       [ 4.41746073],\n",
       "       [ 1.0033612 ],\n",
       "       [ 5.13855226],\n",
       "       [ 3.61961223],\n",
       "       [ 0.82808862],\n",
       "       [ 4.63055083],\n",
       "       [ 6.22516335],\n",
       "       [ 2.34552332],\n",
       "       [ 0.37018672],\n",
       "       [ 2.24187177],\n",
       "       [ 4.05849172],\n",
       "       [ 4.07015501],\n",
       "       [ 1.75362199],\n",
       "       [ 1.76997511],\n",
       "       [ 1.84196867],\n",
       "       [ 2.00421225],\n",
       "       [ 5.62958688],\n",
       "       [ 5.31918566],\n",
       "       [ 4.11826118],\n",
       "       [ 1.86144533],\n",
       "       [ 3.4245603 ],\n",
       "       [ 4.00630214],\n",
       "       [ 5.97673812],\n",
       "       [ 3.05103417],\n",
       "       [ 3.97478283],\n",
       "       [ 5.56902866],\n",
       "       [ 3.69296051],\n",
       "       [ 3.21863069],\n",
       "       [ 1.21171577],\n",
       "       [ 4.56723486],\n",
       "       [ 4.87480597],\n",
       "       [ 6.46763165],\n",
       "       [ 6.46413356],\n",
       "       [ 6.44248875],\n",
       "       [ 1.8564277 ],\n",
       "       [ 7.35027048],\n",
       "       [ 1.92916521],\n",
       "       [ 2.79652543],\n",
       "       [ 5.13537845],\n",
       "       [ 0.22490393],\n",
       "       [ 4.27174373],\n",
       "       [ 4.78052481],\n",
       "       [ 3.7496858 ],\n",
       "       [ 6.89158374],\n",
       "       [ 5.24784515],\n",
       "       [ 0.3060095 ],\n",
       "       [ 4.86873835],\n",
       "       [ 0.92352441],\n",
       "       [ 6.48870743],\n",
       "       [ 3.61170063],\n",
       "       [ 1.71477453],\n",
       "       [ 4.41140944],\n",
       "       [ 1.92649154],\n",
       "       [ 1.0943922 ],\n",
       "       [ 5.88976074],\n",
       "       [ 5.29863915],\n",
       "       [ 5.1213301 ],\n",
       "       [ 0.46991453],\n",
       "       [ 4.21036371],\n",
       "       [ 5.23456317],\n",
       "       [ 1.49666415],\n",
       "       [ 5.31195403],\n",
       "       [ 1.47126282],\n",
       "       [ 3.9131719 ],\n",
       "       [ 5.08625365],\n",
       "       [ 4.94132015],\n",
       "       [ 5.8439551 ],\n",
       "       [ 5.16615288],\n",
       "       [ 4.87445733],\n",
       "       [ 1.21986814]])"
      ]
     },
     "execution_count": 4,
     "metadata": {},
     "output_type": "execute_result"
    },
    {
     "data": {
      "text/plain": [
       "3.6872692179487174"
      ]
     },
     "execution_count": 4,
     "metadata": {},
     "output_type": "execute_result"
    },
    {
     "data": {
      "text/plain": [
       "3.7580000000000027"
      ]
     },
     "execution_count": 4,
     "metadata": {},
     "output_type": "execute_result"
    },
    {
     "data": {
      "image/png": "[encoded data removed]",
      "text/plain": [
       "<Figure size 576x576 with 1 Axes>"
      ]
     },
     "metadata": {
      "needs_background": "light"
     },
     "output_type": "display_data"
    },
    {
     "data": {
      "image/png": "[encoded data removed]",
      "text/plain": [
       "<Figure size 576x576 with 1 Axes>"
      ]
     },
     "metadata": {
      "needs_background": "light"
     },
     "output_type": "display_data"
    }
   ],
   "source": [
    "#pdf fitting curve for petal length\n",
    "x1=df2['petal length']\n",
    "xs=np.linspace(x1.min(),x1.max(),155)\n",
    "kde1= scipy.stats.gaussian_kde(df2['petal length'])\n",
    "plt.figure(figsize=(8,8))\n",
    "plt.plot(xs, kde1(xs), 'k-', label=\"Estimated Density\")  \n",
    "plt.plot(xs, scipy.stats.norm.pdf(xs), 'r--', label=\"True PDF\")  \n",
    "plt.ylabel('Density')\n",
    "plt.legend()\n",
    "\n",
    "#histogram and pdf on the same curve\n",
    "plt.figure(figsize=(8,8))\n",
    "plt.hist(x1, density=True, label='Normalized Histogram')\n",
    "plt.plot(xs, kde1(xs), 'k-', label=\"Estimated Density\")  \n",
    "plt.ylabel('Density')\n",
    "plt.legend()\n",
    "np.random.normal(kde1(xs))\n",
    "\n",
    "#generate 500 samples using the estimated pdf petal length\n",
    "prob_val = kde1(xs)\n",
    "new_samp=kde1.resample(500)\n",
    "new_samp_500 = new_samp.T\n",
    "new_samp_500\n",
    "\n",
    "#mean of the new samples and mean of the data\n",
    "new_samp_500.mean()\n",
    "df2['petal length'].mean()\n"
   ]
  },
  {
   "cell_type": "markdown",
   "metadata": {},
   "source": [
    "# Step 4: Principle Component Analysis to reduce the number of attributes"
   ]
  },
  {
   "cell_type": "code",
   "execution_count": 5,
   "metadata": {},
   "outputs": [
    {
     "data": {
      "text/plain": [
       "array([[-2.67851311e+00,  3.51469651e-01, -2.78232974e-02,\n",
       "        -4.19579973e-03],\n",
       "       [-2.71212037e+00, -1.43049758e-01, -2.13931289e-01,\n",
       "        -1.02607795e-01],\n",
       "       [-2.88692493e+00, -1.11543714e-01,  1.46122631e-02,\n",
       "        -2.37498093e-02],\n",
       "       [-2.74468600e+00, -2.86414646e-01,  2.72144924e-02,\n",
       "         7.12734905e-02],\n",
       "       [-2.72317042e+00,  3.58115681e-01,  9.02425514e-02,\n",
       "         5.92235192e-02],\n",
       "       [-2.27218785e+00,  7.68834242e-01,  1.71966489e-01,\n",
       "         2.39222285e-02],\n",
       "       [-2.81825506e+00, -5.85005906e-02,  2.55077816e-01,\n",
       "         4.44205213e-02],\n",
       "       [-2.62176410e+00,  1.94812704e-01, -2.28092139e-02,\n",
       "         4.28468478e-02],\n",
       "       [-2.88765778e+00, -5.45086583e-01,  1.44782220e-02,\n",
       "         2.14168287e-02],\n",
       "       [-2.67038409e+00, -8.07858314e-02, -2.00514791e-01,\n",
       "         5.29598217e-02],\n",
       "       [-2.49884221e+00,  6.76040055e-01, -7.28329203e-02,\n",
       "         1.44202050e-02],\n",
       "       [-2.60967241e+00,  4.48017873e-02,  1.00270718e-01,\n",
       "         1.53308814e-01],\n",
       "       [-2.78461494e+00, -2.01014808e-01, -2.10676999e-01,\n",
       "         4.04116465e-03],\n",
       "       [-3.22458032e+00, -4.75865181e-01,  5.52880304e-02,\n",
       "         1.63024931e-02],\n",
       "       [-2.63239010e+00,  1.21190936e+00, -1.45621064e-01,\n",
       "        -1.57948395e-01],\n",
       "       [-2.37286131e+00,  1.36568009e+00,  2.85152295e-01,\n",
       "        -4.86773807e-03],\n",
       "       [-2.61414756e+00,  8.41690183e-01,  1.41613906e-01,\n",
       "        -1.68000381e-01],\n",
       "       [-2.64271766e+00,  3.43536235e-01,  2.66683057e-02,\n",
       "        -7.96041022e-02],\n",
       "       [-2.18992774e+00,  9.01918561e-01, -1.16082750e-01,\n",
       "        -2.65701021e-02],\n",
       "       [-2.58110231e+00,  5.42955736e-01,  2.15216318e-01,\n",
       "         6.49125357e-02],\n",
       "       [-2.30398777e+00,  4.21978597e-01, -2.38616495e-01,\n",
       "         1.38455241e-02],\n",
       "       [-2.53734867e+00,  4.62477824e-01,  2.09387966e-01,\n",
       "        -4.26744286e-02],\n",
       "       [-3.21192661e+00,  1.67377758e-01,  2.90873541e-01,\n",
       "        -7.73646173e-03],\n",
       "       [-2.29874059e+00,  1.27938454e-01,  3.77760381e-02,\n",
       "        -1.50836074e-01],\n",
       "       [-2.35320263e+00, -9.84016869e-03,  1.23035156e-01,\n",
       "         2.97250771e-01],\n",
       "       [-2.50444140e+00, -1.13579263e-01, -2.56500891e-01,\n",
       "        -3.78871473e-02],\n",
       "       [-2.46468328e+00,  1.60731886e-01,  9.37621381e-02,\n",
       "        -5.99891048e-02],\n",
       "       [-2.55632406e+00,  3.99154132e-01, -7.79810449e-02,\n",
       "         1.25441955e-02],\n",
       "       [-2.63045514e+00, -1.66185670e-01,  3.73767005e-02,\n",
       "         1.20192148e-01],\n",
       "       [-2.58579783e+00, -1.72831699e-01, -8.06891484e-02,\n",
       "         5.67728287e-02],\n",
       "       [-2.40337673e+00,  4.42539735e-01, -1.44809581e-01,\n",
       "        -2.32932385e-01],\n",
       "       [-2.63986867e+00,  8.42354521e-01,  2.29447086e-01,\n",
       "         2.81024469e-01],\n",
       "       [-2.63458864e+00, -8.87192480e-02, -1.46023187e-01,\n",
       "        -2.24484807e-02],\n",
       "       [-2.67038409e+00, -8.07858314e-02, -2.00514791e-01,\n",
       "         5.29598217e-02],\n",
       "       [-2.86231750e+00,  1.04365669e-01, -1.66213562e-01,\n",
       "        -1.65452433e-01],\n",
       "       [-2.61720656e+00,  6.33277500e-01, -2.66395016e-01,\n",
       "        -1.77139080e-01],\n",
       "       [-2.79566498e+00,  3.00150631e-01,  9.34968416e-02,\n",
       "         1.65872479e-01],\n",
       "       [-2.98110590e+00, -4.54328103e-01,  6.72100318e-02,\n",
       "         5.61483821e-03],\n",
       "       [-2.58506498e+00,  2.60711170e-01, -8.05551072e-02,\n",
       "         1.16061907e-02],\n",
       "       [-2.76490671e+00,  2.95851754e-01,  7.68260532e-02,\n",
       "        -9.63440974e-02],\n",
       "       [-2.85290397e+00, -9.04174522e-01, -3.58283948e-01,\n",
       "        -3.26284754e-01],\n",
       "       [-2.99702229e+00, -3.09239112e-01,  1.87849943e-01,\n",
       "         6.99721619e-02],\n",
       "       [-2.40105058e+00,  2.17409548e-01,  2.63065300e-01,\n",
       "        -1.78627048e-01],\n",
       "       [-2.20334715e+00,  4.62166378e-01,  3.00060505e-01,\n",
       "         1.81426842e-01],\n",
       "       [-2.71302405e+00, -2.16881641e-01, -1.01693792e-01,\n",
       "        -1.46775440e-01],\n",
       "       [-2.53140783e+00,  5.32675167e-01,  1.68312861e-01,\n",
       "         1.88301490e-01],\n",
       "       [-2.83813412e+00, -1.95656165e-01,  7.99463022e-02,\n",
       "         5.54715001e-02],\n",
       "       [-2.53554133e+00,  6.10141589e-01, -1.50870270e-02,\n",
       "         4.56608621e-02],\n",
       "       [-2.69929584e+00,  1.40482194e-01, -9.07173153e-02,\n",
       "        -3.73124664e-02],\n",
       "       [-3.01293867e+00, -1.64150120e-01,  3.08489854e-01,\n",
       "         1.34329486e-01],\n",
       "       [ 1.29335773e+00,  6.89644502e-01, -4.01647088e-01,\n",
       "        -1.58423729e-02],\n",
       "       [ 9.37978602e-01,  3.22748261e-01, -1.58564167e-02,\n",
       "         2.31962495e-04],\n",
       "       [ 1.47139210e+00,  5.06840153e-01, -3.34553256e-01,\n",
       "         3.77262449e-03],\n",
       "       [ 1.80269742e-01, -8.16301632e-01, -1.85946913e-01,\n",
       "        -9.72967371e-02],\n",
       "       [ 1.09200043e+00,  8.02547591e-02, -3.07293987e-01,\n",
       "        -1.11742690e-01],\n",
       "       [ 6.41326650e-01, -4.12852150e-01,  3.81018076e-02,\n",
       "         2.41018519e-01],\n",
       "       [ 1.10009659e+00,  2.85032903e-01,  1.71877327e-01,\n",
       "         8.42042836e-02],\n",
       "       [-7.53699003e-01, -9.87849785e-01,  4.25657262e-03,\n",
       "         1.26862083e-02],\n",
       "       [ 1.04915046e+00,  2.34564554e-01, -4.13703131e-01,\n",
       "         4.00119200e-02],\n",
       "       [-1.13548724e-02, -7.13538480e-01,  2.75474047e-01,\n",
       "         1.75092673e-03],\n",
       "       [-5.14187253e-01, -1.24855727e+00, -2.79592851e-01,\n",
       "        -5.13077916e-02],\n",
       "       [ 5.13929611e-01, -9.71911041e-02,  1.29468701e-01,\n",
       "        -5.18640327e-02],\n",
       "       [ 2.64337191e-01, -5.35553548e-01, -6.98471144e-01,\n",
       "        -5.94537771e-02],\n",
       "       [ 9.86940236e-01, -1.21075178e-01, -6.28939152e-02,\n",
       "         1.68787555e-01],\n",
       "       [-1.72740015e-01, -2.42280252e-01,  8.78743444e-02,\n",
       "        -1.27388032e-01],\n",
       "       [ 9.34748779e-01,  4.74046565e-01, -3.11493801e-01,\n",
       "        -9.82410204e-02],\n",
       "       [ 6.60302037e-01, -3.49528458e-01,  3.25470818e-01,\n",
       "         1.85799895e-01],\n",
       "       [ 2.36637911e-01, -3.22841988e-01, -2.73791434e-01,\n",
       "         2.11901499e-01],\n",
       "       [ 9.44162303e-01, -5.34493626e-01, -5.03564186e-01,\n",
       "        -2.59073342e-01],\n",
       "       [ 4.39716514e-02, -5.71233357e-01, -2.39624247e-01,\n",
       "         3.86558820e-02],\n",
       "       [ 1.11833913e+00, -8.51862749e-02,  4.59112296e-01,\n",
       "         7.41522975e-02],\n",
       "       [ 3.60673487e-01, -5.81883594e-02, -2.30822494e-01,\n",
       "        -1.23847370e-01],\n",
       "       [ 1.29894655e+00, -3.23817615e-01, -3.49997629e-01,\n",
       "        -1.85540419e-03],\n",
       "       [ 9.23307536e-01, -1.77752840e-01, -2.32197077e-01,\n",
       "         2.87425498e-01],\n",
       "       [ 7.19282434e-01,  1.57409578e-01, -3.20975781e-01,\n",
       "        -4.14487228e-02],\n",
       "       [ 9.06007854e-01,  3.35603603e-01, -3.14067863e-01,\n",
       "        -9.91790252e-02],\n",
       "       [ 1.33728219e+00,  2.49455603e-01, -5.19846978e-01,\n",
       "        -3.40950539e-02],\n",
       "       [ 1.56303288e+00,  2.68417907e-01, -1.62810073e-01,\n",
       "        -6.87606758e-02],\n",
       "       [ 8.15056708e-01, -1.58479090e-01,  3.41672896e-02,\n",
       "         2.86586052e-02],\n",
       "       [-3.05042582e-01, -3.52001038e-01, -3.21894371e-01,\n",
       "        -7.69204199e-02],\n",
       "       [-7.02592018e-02, -6.91462333e-01, -2.49786455e-01,\n",
       "        -1.02627750e-02],\n",
       "       [-1.91544577e-01, -6.65314931e-01, -3.11866204e-01,\n",
       "         1.71648751e-02],\n",
       "       [ 1.37248949e-01, -3.02280851e-01, -1.79984519e-01,\n",
       "        -3.48764108e-02],\n",
       "       [ 1.37970811e+00, -4.20785409e-01,  1.35478563e-02,\n",
       "         1.76776893e-01],\n",
       "       [ 5.86903799e-01, -4.81325390e-01,  4.40962605e-01,\n",
       "         2.48281209e-01],\n",
       "       [ 8.11061185e-01,  1.96309971e-01,  3.90258671e-01,\n",
       "         1.14143612e-01],\n",
       "       [ 1.22701401e+00,  4.11471192e-01, -2.34237761e-01,\n",
       "        -2.97073660e-02],\n",
       "       [ 8.15822407e-01, -3.61969846e-01, -6.17561476e-01,\n",
       "        -1.55299385e-01],\n",
       "       [ 2.46751431e-01, -2.60805683e-01,  1.86135029e-01,\n",
       "         1.44693891e-01],\n",
       "       [ 1.64353354e-01, -6.71212641e-01, -6.53070016e-02,\n",
       "        -3.29394135e-02],\n",
       "       [ 4.62559425e-01, -6.63590671e-01, -2.91260659e-02,\n",
       "         2.66570160e-01],\n",
       "       [ 8.93492114e-01, -3.03166969e-02, -1.01621054e-02,\n",
       "         1.52985565e-01],\n",
       "       [ 2.30697071e-01, -3.93039332e-01, -2.32716329e-01,\n",
       "        -1.90744204e-02],\n",
       "       [-7.09041690e-01, -9.94495815e-01, -1.13809276e-01,\n",
       "        -5.07331106e-02],\n",
       "       [ 3.56115941e-01, -4.96653155e-01,  1.27633079e-02,\n",
       "         9.61385578e-02],\n",
       "       [ 3.33145032e-01, -2.05187786e-01,  8.14856783e-02,\n",
       "         2.36842189e-01],\n",
       "       [ 3.76898672e-01, -2.85665698e-01,  7.56573258e-02,\n",
       "         1.29255224e-01],\n",
       "       [ 6.45884196e-01,  2.56126461e-02, -2.05483995e-01,\n",
       "         2.10325913e-02],\n",
       "       [-9.08933296e-01, -7.36799819e-01, -1.91880926e-02,\n",
       "        -2.36966703e-01],\n",
       "       [ 2.99366938e-01, -3.39996208e-01,  7.74922445e-03,\n",
       "         4.90959102e-02],\n",
       "       [ 2.53362468e+00, -2.31496560e-02,  7.60947650e-01,\n",
       "         2.92780416e-02],\n",
       "       [ 1.41369621e+00, -5.76382591e-01,  2.92514452e-01,\n",
       "         1.30332997e-02],\n",
       "       [ 2.62242050e+00,  3.36352237e-01, -1.07533921e-01,\n",
       "        -6.35306431e-02],\n",
       "       [ 1.97292961e+00, -1.84937780e-01,  1.07874023e-01,\n",
       "         2.36498902e-01],\n",
       "       [ 2.35253130e+00, -4.87579901e-02,  2.85844896e-01,\n",
       "         5.24344614e-04],\n",
       "       [ 3.40434559e+00,  5.38346669e-01, -3.43146367e-01,\n",
       "         1.16130638e-01],\n",
       "       [ 5.14790067e-01, -1.18940703e+00,  5.37075500e-01,\n",
       "         9.27745807e-02],\n",
       "       [ 2.93835030e+00,  3.46548982e-01, -4.16467889e-01,\n",
       "         2.59956897e-01],\n",
       "       [ 2.32253872e+00, -2.47949869e-01, -3.49213081e-01,\n",
       "         7.87829309e-02],\n",
       "       [ 2.92553210e+00,  7.69356038e-01,  4.29782623e-01,\n",
       "        -1.07371234e-01],\n",
       "       [ 1.66659452e+00,  2.39695731e-01,  2.44384580e-01,\n",
       "        -1.20166293e-01],\n",
       "       [ 1.80487078e+00, -2.17419766e-01, -3.87846159e-02,\n",
       "        -7.84493381e-02],\n",
       "       [ 2.17036343e+00,  2.11512780e-01,  3.53511756e-02,\n",
       "        -1.61731281e-01],\n",
       "       [ 1.34321900e+00, -7.77089479e-01,  2.76523892e-01,\n",
       "        -1.43472322e-01],\n",
       "       [ 1.58471525e+00, -5.43505179e-01,  6.25292423e-01,\n",
       "        -3.31829550e-01],\n",
       "       [ 1.90826160e+00,  1.13569045e-01,  4.80781575e-01,\n",
       "        -2.19189239e-01],\n",
       "       [ 1.95287973e+00,  3.76176324e-02,  4.51140461e-02,\n",
       "         1.58215597e-01],\n",
       "       [ 3.49866453e+00,  1.15845370e+00,  1.43747133e-01,\n",
       "         3.14891625e-01],\n",
       "       [ 3.80093816e+00,  2.43558364e-01, -5.10424439e-01,\n",
       "        -5.06993148e-02],\n",
       "       [ 1.29821371e+00, -7.57360485e-01, -3.50131671e-01,\n",
       "         4.33112338e-02],\n",
       "       [ 2.43371691e+00,  3.70205433e-01,  2.22404691e-01,\n",
       "        -1.83469915e-01],\n",
       "       [ 1.19715537e+00, -6.07140473e-01,  5.07641506e-01,\n",
       "        -6.36763313e-02],\n",
       "       [ 3.50665558e+00,  4.48875575e-01, -5.68435629e-01,\n",
       "         1.43921612e-01],\n",
       "       [ 1.39041651e+00, -2.02528874e-01, -6.58829089e-02,\n",
       "        -1.63722988e-01],\n",
       "       [ 2.28076958e+00,  3.26819830e-01,  2.89233227e-01,\n",
       "         6.20066661e-02],\n",
       "       [ 2.62130682e+00,  5.52925958e-01, -2.00526567e-01,\n",
       "         2.43791583e-01],\n",
       "       [ 1.26026926e+00, -1.77668859e-01,  4.45947942e-02,\n",
       "        -1.48284321e-01],\n",
       "       [ 1.29314369e+00, -1.16692319e-01,  2.30568744e-01,\n",
       "        -4.70568808e-03],\n",
       "       [ 2.12497327e+00, -2.15384060e-01,  1.53282983e-01,\n",
       "        -5.31453242e-02],\n",
       "       [ 2.39465245e+00,  4.60131771e-01, -4.45325976e-01,\n",
       "         2.34289560e-01],\n",
       "       [ 2.84782320e+00,  3.68397506e-01, -4.95218427e-01,\n",
       "         2.51679715e-02],\n",
       "       [ 3.24400209e+00,  1.36075942e+00, -1.03492297e-01,\n",
       "         2.59284959e-01],\n",
       "       [ 2.16076871e+00, -2.23317476e-01,  2.07774586e-01,\n",
       "        -1.28553627e-01],\n",
       "       [ 1.44605183e+00, -1.42612099e-01, -1.53861471e-01,\n",
       "         1.90641886e-01],\n",
       "       [ 1.78022417e+00, -5.02634532e-01, -1.75560470e-01,\n",
       "         5.04077440e-01],\n",
       "       [ 3.08518596e+00,  6.79448228e-01, -3.29849783e-01,\n",
       "        -3.05829886e-01],\n",
       "       [ 2.14791132e+00,  1.30184197e-01,  7.36423420e-01,\n",
       "        -5.50576033e-02],\n",
       "       [ 1.90822242e+00,  4.42636620e-02,  1.63179895e-01,\n",
       "         2.21634916e-01],\n",
       "       [ 1.17095464e+00, -1.64376800e-01,  2.80726492e-01,\n",
       "        -2.14456833e-02],\n",
       "       [ 2.11361442e+00,  3.68169727e-01,  3.03370921e-02,\n",
       "        -2.08773929e-01],\n",
       "       [ 2.31858238e+00,  1.76144575e-01,  3.24479980e-01,\n",
       "        -2.76556217e-01],\n",
       "       [ 1.92873553e+00,  4.06944850e-01,  1.16555861e-01,\n",
       "        -5.03532490e-01],\n",
       "       [ 1.41369621e+00, -5.76382591e-01,  2.92514452e-01,\n",
       "         1.30332997e-02],\n",
       "       [ 2.56799765e+00,  2.67878997e-01,  2.95326876e-01,\n",
       "        -5.62679530e-02],\n",
       "       [ 2.42395137e+00,  2.95086164e-01,  5.07199640e-01,\n",
       "        -2.39626544e-01],\n",
       "       [ 1.94878542e+00,  1.84389437e-01,  1.79315838e-01,\n",
       "        -4.25249186e-01],\n",
       "       [ 1.52761827e+00, -3.73765267e-01, -1.24443071e-01,\n",
       "        -2.55507962e-01],\n",
       "       [ 1.76800084e+00,  7.63927550e-02,  1.31332815e-01,\n",
       "        -1.36542964e-01],\n",
       "       [ 1.90443690e+00,  1.08647119e-01,  7.24501418e-01,\n",
       "        -4.43699484e-02],\n",
       "       [ 1.39072530e+00, -2.84917222e-01,  3.61236823e-01,\n",
       "         1.53736931e-01]])"
      ]
     },
     "execution_count": 5,
     "metadata": {},
     "output_type": "execute_result"
    },
    {
     "data": {
      "text/plain": [
       "array([0.9265206 , 0.05106678, 0.017199  , 0.00521361])"
      ]
     },
     "execution_count": 5,
     "metadata": {},
     "output_type": "execute_result"
    },
    {
     "data": {
      "text/plain": [
       "(150, 4)"
      ]
     },
     "execution_count": 5,
     "metadata": {},
     "output_type": "execute_result"
    },
    {
     "data": {
      "text/plain": [
       "<BarContainer object of 4 artists>"
      ]
     },
     "execution_count": 5,
     "metadata": {},
     "output_type": "execute_result"
    },
    {
     "data": {
      "text/plain": [
       "array([0.9265206 , 0.05106678, 0.017199  ])"
      ]
     },
     "execution_count": 5,
     "metadata": {},
     "output_type": "execute_result"
    },
    {
     "data": {
      "text/plain": [
       "(150, 3)"
      ]
     },
     "execution_count": 5,
     "metadata": {},
     "output_type": "execute_result"
    },
    {
     "data": {
      "image/png": "[encoded data removed]",
      "text/plain": [
       "<Figure size 432x288 with 1 Axes>"
      ]
     },
     "metadata": {
      "needs_background": "light"
     },
     "output_type": "display_data"
    }
   ],
   "source": [
    "#PCA on the IRIS data\n",
    "df5=df2.drop(columns='iris')\n",
    "from sklearn.decomposition import PCA\n",
    "PC1 = PCA()\n",
    "PC1.fit_transform(df5)\n",
    "PC1.explained_variance_ratio_\n",
    "PC1.fit_transform(df5).shape\n",
    "\n",
    "#bar plot\n",
    "plt.bar(np.arange(0,4),PC1.explained_variance_ratio_)\n",
    "\n",
    "#reducing the number of attributes to 1\n",
    "reduced_data = PCA(n_components=3)\n",
    "F=reduced_data.fit_transform(df5)\n",
    "reduced_data.explained_variance_ratio_\n",
    "reduced_data.fit_transform(df5).shape\n",
    "\n",
    "\n"
   ]
  },
  {
   "cell_type": "markdown",
   "metadata": {},
   "source": [
    "# Step 5: Machine Learning using of supervised and non supervised learning"
   ]
  },
  {
   "cell_type": "code",
   "execution_count": 7,
   "metadata": {},
   "outputs": [
    {
     "data": {
      "text/plain": [
       "KMeans(algorithm='auto', copy_x=True, init='k-means++', max_iter=300,\n",
       "    n_clusters=3, n_init=10, n_jobs=1, precompute_distances='auto',\n",
       "    random_state=None, tol=0.0001, verbose=0)"
      ]
     },
     "execution_count": 7,
     "metadata": {},
     "output_type": "execute_result"
    },
    {
     "name": "stdout",
     "output_type": "stream",
     "text": [
      "[[-2.64705158  0.18809832  0.01460689]\n",
      " [ 0.67633857 -0.30866612 -0.04458351]\n",
      " [ 2.37946283  0.25611535  0.05352193]]\n",
      "[0 0 0 0 0 0 0 0 0 0 0 0 0 0 0 0 0 0 0 0 0 0 0 0 0 0 0 0 0 0 0 0 0 0 0 0 0\n",
      " 0 0 0 0 0 0 0 0 0 0 0 0 0 1 1 2 1 1 1 1 1 1 1 1 1 1 1 1 1 1 1 1 1 1 1 1 1\n",
      " 1 1 1 2 1 1 1 1 1 1 1 1 1 1 1 1 1 1 1 1 1 1 1 1 1 1 2 1 2 2 2 2 1 2 2 2 2\n",
      " 2 2 1 1 2 2 2 2 1 2 1 2 1 2 2 1 1 2 2 2 2 2 1 2 2 2 2 1 2 2 2 1 2 2 2 1 2\n",
      " 2 1]\n"
     ]
    },
    {
     "data": {
      "text/plain": [
       "<matplotlib.collections.PathCollection at 0x236460c9b38>"
      ]
     },
     "execution_count": 7,
     "metadata": {},
     "output_type": "execute_result"
    },
    {
     "data": {
      "text/plain": [
       "<matplotlib.collections.PathCollection at 0x236460c9e10>"
      ]
     },
     "execution_count": 7,
     "metadata": {},
     "output_type": "execute_result"
    },
    {
     "data": {
      "text/plain": [
       "<matplotlib.collections.PathCollection at 0x236460d8128>"
      ]
     },
     "execution_count": 7,
     "metadata": {},
     "output_type": "execute_result"
    },
    {
     "data": {
      "image/png": "[encoded data removed]",
      "text/plain": [
       "<Figure size 432x288 with 1 Axes>"
      ]
     },
     "metadata": {
      "needs_background": "light"
     },
     "output_type": "display_data"
    }
   ],
   "source": [
    "#using Kmeans to divide into clusters\n",
    "from sklearn.cluster import KMeans\n",
    "kmeans=KMeans(n_clusters=3)\n",
    "kmeans.fit(F)\n",
    "print(kmeans.cluster_centers_)\n",
    "print(kmeans.labels_)\n",
    "plt.scatter(data1,data2,cmap='rainbow')\n",
    "plt.scatter(data2,data3,cmap='rainbow')\n",
    "plt.scatter(data3,data1,cmap='rainbow')"
   ]
  },
  {
   "cell_type": "code",
   "execution_count": 8,
   "metadata": {},
   "outputs": [],
   "source": [
    "#divide dataset to 80% training and 20% validation\n",
    "from sklearn.model_selection import train_test_split\n",
    "X_train,X_test,y_train,y_test= train_test_split(data,kmeans.labels_,test_size=0.20)"
   ]
  },
  {
   "cell_type": "code",
   "execution_count": 9,
   "metadata": {},
   "outputs": [
    {
     "data": {
      "text/plain": [
       "LogisticRegression(C=1.0, class_weight=None, dual=False, fit_intercept=True,\n",
       "          intercept_scaling=1, max_iter=100, multi_class='ovr', n_jobs=1,\n",
       "          penalty='l2', random_state=None, solver='liblinear', tol=0.0001,\n",
       "          verbose=0, warm_start=False)"
      ]
     },
     "execution_count": 9,
     "metadata": {},
     "output_type": "execute_result"
    }
   ],
   "source": [
    "#build a logistic regression model\n",
    "from sklearn.linear_model import LogisticRegression\n",
    "lr = LogisticRegression()\n",
    "lr.fit(X_train,y_train)\n"
   ]
  },
  {
   "cell_type": "code",
   "execution_count": 10,
   "metadata": {},
   "outputs": [
    {
     "name": "stdout",
     "output_type": "stream",
     "text": [
      "0.9333333333333333\n"
     ]
    }
   ],
   "source": [
    "#training accuracy\n",
    "predictions=lr.predict(X_train)\n",
    "score=lr.score(X_train,y_train)\n",
    "print(score)"
   ]
  },
  {
   "cell_type": "code",
   "execution_count": 11,
   "metadata": {},
   "outputs": [
    {
     "name": "stdout",
     "output_type": "stream",
     "text": [
      "0.9333333333333333\n"
     ]
    }
   ],
   "source": [
    "#validation accuracy\n",
    "predictions1=lr.predict(X_test)\n",
    "score1=lr.score(X_test,y_test)\n",
    "print(score1)"
   ]
  },
  {
   "cell_type": "code",
   "execution_count": 12,
   "metadata": {},
   "outputs": [
    {
     "data": {
      "text/plain": [
       "array([[ 7,  0,  0],\n",
       "       [ 0, 12,  2],\n",
       "       [ 0,  0,  9]], dtype=int64)"
      ]
     },
     "execution_count": 12,
     "metadata": {},
     "output_type": "execute_result"
    }
   ],
   "source": [
    "#confusion matrix\n",
    "from sklearn import metrics\n",
    "cm = metrics.confusion_matrix(y_test,predictions1)\n",
    "cm\n"
   ]
  }
 ],
 "metadata": {
  "kernelspec": {
   "display_name": "Python 3",
   "language": "python",
   "name": "python3"
  },
  "language_info": {
   "codemirror_mode": {
    "name": "ipython",
    "version": 3
   },
   "file_extension": ".py",
   "mimetype": "text/x-python",
   "name": "python",
   "nbconvert_exporter": "python",
   "pygments_lexer": "ipython3",
   "version": "3.7.0"
  }
 },
 "nbformat": 4,
 "nbformat_minor": 2
}
